{
 "cells": [
  {
   "cell_type": "code",
   "execution_count": 84,
   "id": "bcefe089-e5b5-4a86-9ecc-b6d8516339bb",
   "metadata": {},
   "outputs": [],
   "source": [
    "from bs4 import BeautifulSoup\n",
    "import requests\n",
    "import re\n",
    "import time\n",
    "import datetime\n",
    "import csv\n",
    "import smtplib\n",
    "import pandas as pd"
   ]
  },
  {
   "cell_type": "code",
   "execution_count": 17,
   "id": "0ffa705b-867c-43db-9ac9-64d1e003598c",
   "metadata": {},
   "outputs": [],
   "source": [
    "URL = 'https://www.amazon.com/dp/B0BSHF7WHW'\n",
    "\n",
    "# headers is the info of the user system.\n",
    "# One can find user agent it in google developer tools under console by typing in \n",
    "user_agent = 'Mozilla/5.0 (Windows NT 10.0; Win64; x64) AppleWebKit/537.36 (KHTML, like Gecko) Chrome/127.0.0.0 Safari/537.36'\n",
    "\n",
    "# full headers info you can find in https://httpbin.org/get\n",
    "# one needs to get accept, accpet-encoding, accept-language, upgrade-insecure-requests, user-agent\n",
    "headers = {\n",
    "    \"Accept\": \"text/html,application/xhtml+xml,application/xml;q=0.9,image/avif,image/webp,image/apng,*/*;q=0.8,application/signed-exchange;v=b3;q=0.7\", \n",
    "    \"Accept-Encoding\": \"gzip, deflate, br, zstd\", \n",
    "    \"Accept-Language\": \"en-US,en;q=0.9\", \n",
    "    \"Upgrade-Insecure-Requests\": \"1\", \n",
    "    \"User-Agent\": \"Mozilla/5.0 (Windows NT 10.0; Win64; x64) AppleWebKit/537.36 (KHTML, like Gecko) Chrome/127.0.0.0 Safari/537.36\"\n",
    "  }"
   ]
  },
  {
   "cell_type": "code",
   "execution_count": 23,
   "id": "427d56a0-a0f5-4569-8f15-3749a4f55b3e",
   "metadata": {},
   "outputs": [],
   "source": [
    "target_url=\"https://api.scrapingdog.com/scrape?api_key=xxxxxxxxxxxxxxxxxxxx&url=https://www.amazon.com/dp/B0BSHF7WHW&dynamic=false\"\n"
   ]
  },
  {
   "cell_type": "code",
   "execution_count": 24,
   "id": "81936259-46d3-4bfa-8668-319d65c98b97",
   "metadata": {},
   "outputs": [],
   "source": [
    "page = requests.get(target_url)"
   ]
  },
  {
   "cell_type": "code",
   "execution_count": 28,
   "id": "41b6c3f1-deaf-4ff5-94d3-60cf843a3c91",
   "metadata": {},
   "outputs": [],
   "source": [
    "page = requests.get(URL, headers=headers)"
   ]
  },
  {
   "cell_type": "code",
   "execution_count": 29,
   "id": "c65f9cb0-2eae-4e04-948f-10793a96d70b",
   "metadata": {},
   "outputs": [
    {
     "data": {
      "text/plain": [
       "<Response [200]>"
      ]
     },
     "execution_count": 29,
     "metadata": {},
     "output_type": "execute_result"
    }
   ],
   "source": [
    "page"
   ]
  },
  {
   "cell_type": "code",
   "execution_count": 30,
   "id": "b1470dbb-8c29-4ba3-97c8-5fe913add86f",
   "metadata": {},
   "outputs": [],
   "source": [
    "soup1 = BeautifulSoup(page.content, 'html.parser')\n",
    "\n",
    "soup2 = BeautifulSoup(soup1.prettify(), 'html.parser')"
   ]
  },
  {
   "cell_type": "code",
   "execution_count": 34,
   "id": "dacde9fc-29c1-413d-a5a3-59e14f8c4194",
   "metadata": {},
   "outputs": [
    {
     "data": {
      "text/plain": [
       "'Apple 2023 MacBook Pro laptop M2 Pro chip with 12‑core CPU and 19‑core GPU: 16.2-inch Liquid Retina XDR display, 16GB Unified Memory, 1TB SSD storage. Works with iPhone/iPad; Space Gray'"
      ]
     },
     "execution_count": 34,
     "metadata": {},
     "output_type": "execute_result"
    }
   ],
   "source": [
    "title = soup2.find('h1',{'id':'title'}).text.strip()\n",
    "title"
   ]
  },
  {
   "cell_type": "code",
   "execution_count": 36,
   "id": "da4ef99c-2ce9-4ba3-b3d6-ddfb9c683087",
   "metadata": {},
   "outputs": [
    {
     "name": "stdout",
     "output_type": "stream",
     "text": [
      "3\n"
     ]
    }
   ],
   "source": [
    "allimages = soup2.find_all(\"div\",{\"class\":\"imgTagWrapper\"})\n",
    "print(len(allimages))"
   ]
  },
  {
   "cell_type": "code",
   "execution_count": 42,
   "id": "52628c11-2ea3-45fe-b523-6c032247dfa0",
   "metadata": {
    "scrolled": true
   },
   "outputs": [
    {
     "data": {
      "text/plain": [
       "['https://m.media-amazon.com/images/I/61fd2oCrvyL._AC_SL1500_.jpg',\n",
       " 'https://m.media-amazon.com/images/I/71ZAeHYYlHL._AC_SL1500_.jpg',\n",
       " 'https://m.media-amazon.com/images/I/61C9irOOQVL._AC_SL1500_.jpg',\n",
       " 'https://m.media-amazon.com/images/I/81j1XDaqcML._AC_SL1500_.jpg',\n",
       " 'https://m.media-amazon.com/images/I/81OBjqVEGwL._AC_SL1500_.jpg',\n",
       " 'https://m.media-amazon.com/images/I/61FhAanYdhL._AC_SL1500_.jpg',\n",
       " 'https://m.media-amazon.com/images/I/61bwiPRcv2L._AC_SL1500_.jpg',\n",
       " 'https://m.media-amazon.com/images/I/71-uDe4TN1L._AC_SL1500_.jpg',\n",
       " 'https://m.media-amazon.com/images/I/61C9irOOQVL._AC_SL1500_.jpg',\n",
       " 'https://m.media-amazon.com/images/I/81KJXaswhrL._AC_SL1500_.jpg',\n",
       " 'https://m.media-amazon.com/images/I/81OBjqVEGwL._AC_SL1500_.jpg',\n",
       " 'https://m.media-amazon.com/images/I/61CdlgWgngL._AC_SL1500_.jpg',\n",
       " 'https://m.media-amazon.com/images/I/61EXF2Vr9LL._AC_SL1500_.jpg',\n",
       " 'https://m.media-amazon.com/images/I/61fd2oCrvyL._AC_SL1500_.jpg',\n",
       " 'https://m.media-amazon.com/images/I/71ZAeHYYlHL._AC_SL1500_.jpg',\n",
       " 'https://m.media-amazon.com/images/I/61C9irOOQVL._AC_SL1500_.jpg',\n",
       " 'https://m.media-amazon.com/images/I/81j1XDaqcML._AC_SL1500_.jpg',\n",
       " 'https://m.media-amazon.com/images/I/81OBjqVEGwL._AC_SL1500_.jpg',\n",
       " 'https://m.media-amazon.com/images/I/61FhAanYdhL._AC_SL1500_.jpg',\n",
       " 'https://m.media-amazon.com/images/I/61ldExf7mbL._AC_SL1500_.jpg',\n",
       " 'https://m.media-amazon.com/images/I/71-uDe4TN1L._AC_SL1500_.jpg',\n",
       " 'https://m.media-amazon.com/images/I/61C9irOOQVL._AC_SL1500_.jpg',\n",
       " 'https://m.media-amazon.com/images/I/81KJXaswhrL._AC_SL1500_.jpg',\n",
       " 'https://m.media-amazon.com/images/I/81OBjqVEGwL._AC_SL1500_.jpg',\n",
       " 'https://m.media-amazon.com/images/I/61CdlgWgngL._AC_SL1500_.jpg',\n",
       " 'https://m.media-amazon.com/images/I/61ldExf7mbL._AC_SL1500_.jpg',\n",
       " 'https://m.media-amazon.com/images/I/71-uDe4TN1L._AC_SL1500_.jpg',\n",
       " 'https://m.media-amazon.com/images/I/61C9irOOQVL._AC_SL1500_.jpg',\n",
       " 'https://m.media-amazon.com/images/I/81KJXaswhrL._AC_SL1500_.jpg',\n",
       " 'https://m.media-amazon.com/images/I/81OBjqVEGwL._AC_SL1500_.jpg',\n",
       " 'https://m.media-amazon.com/images/I/61CdlgWgngL._AC_SL1500_.jpg',\n",
       " 'https://m.media-amazon.com/images/I/61fd2oCrvyL._AC_SL1500_.jpg',\n",
       " 'https://m.media-amazon.com/images/I/71ZAeHYYlHL._AC_SL1500_.jpg',\n",
       " 'https://m.media-amazon.com/images/I/61C9irOOQVL._AC_SL1500_.jpg',\n",
       " 'https://m.media-amazon.com/images/I/81j1XDaqcML._AC_SL1500_.jpg',\n",
       " 'https://m.media-amazon.com/images/I/81OBjqVEGwL._AC_SL1500_.jpg',\n",
       " 'https://m.media-amazon.com/images/I/61FhAanYdhL._AC_SL1500_.jpg',\n",
       " 'https://m.media-amazon.com/images/I/61fd2oCrvyL._AC_SL1500_.jpg',\n",
       " 'https://m.media-amazon.com/images/I/71ZAeHYYlHL._AC_SL1500_.jpg',\n",
       " 'https://m.media-amazon.com/images/I/61C9irOOQVL._AC_SL1500_.jpg',\n",
       " 'https://m.media-amazon.com/images/I/81j1XDaqcML._AC_SL1500_.jpg',\n",
       " 'https://m.media-amazon.com/images/I/81OBjqVEGwL._AC_SL1500_.jpg',\n",
       " 'https://m.media-amazon.com/images/I/61FhAanYdhL._AC_SL1500_.jpg']"
      ]
     },
     "execution_count": 42,
     "metadata": {},
     "output_type": "execute_result"
    }
   ],
   "source": [
    "images = re.findall('\"hiRes\":\"(.+?)\"', page.text)\n",
    "images"
   ]
  },
  {
   "cell_type": "code",
   "execution_count": 57,
   "id": "d44ce8a2-c693-4308-908d-8734185aab9c",
   "metadata": {},
   "outputs": [],
   "source": [
    "price=soup2.find(\"td\",{\"class\":\"a-span12\"}).find(\"span\").find(\"span\").text.strip()"
   ]
  },
  {
   "cell_type": "code",
   "execution_count": 58,
   "id": "382a3bfa-f453-4f32-bc05-39268e81a5e4",
   "metadata": {},
   "outputs": [
    {
     "name": "stdout",
     "output_type": "stream",
     "text": [
      "$2,699.00\n"
     ]
    }
   ],
   "source": [
    "print(price)"
   ]
  },
  {
   "cell_type": "code",
   "execution_count": 60,
   "id": "eb3cf5f8-dd17-4894-b6ca-5635721ab769",
   "metadata": {},
   "outputs": [],
   "source": [
    "rating = soup2.find(\"i\",{\"class\":\"a-icon-star\"}).text.strip()"
   ]
  },
  {
   "cell_type": "code",
   "execution_count": 61,
   "id": "1460cb92-c084-4466-a413-9162c876e3be",
   "metadata": {},
   "outputs": [
    {
     "data": {
      "text/plain": [
       "'4.7 out of 5 stars'"
      ]
     },
     "execution_count": 61,
     "metadata": {},
     "output_type": "execute_result"
    }
   ],
   "source": [
    "rating"
   ]
  },
  {
   "cell_type": "code",
   "execution_count": 68,
   "id": "b35c8128-fcac-407d-bcc7-fd6ca9bbbd11",
   "metadata": {},
   "outputs": [],
   "source": [
    "specs_obj = {}\n",
    "specs = soup2.find_all(\"tr\",{\"class\":\"a-spacing-small\"})\n",
    "for u in range(0,len(specs)):\n",
    "    spanTags = specs[u].find_all(\"span\")\n",
    "    specs_obj[spanTags[0].text.strip()]=spanTags[1].text.strip()"
   ]
  },
  {
   "cell_type": "code",
   "execution_count": 69,
   "id": "ab55f5a9-7681-4726-a50c-2425b6156ac8",
   "metadata": {},
   "outputs": [
    {
     "data": {
      "text/plain": [
       "{'Brand': 'Apple',\n",
       " 'Model Name': 'MacBook Pro',\n",
       " 'Screen Size': '16.2 Inches',\n",
       " 'Color': 'Space Gray',\n",
       " 'Hard Disk Size': '1 TB',\n",
       " 'CPU Model': 'Unknown',\n",
       " 'Ram Memory Installed Size': '16 GB',\n",
       " 'Operating System': 'Mac OS',\n",
       " 'Special Feature': 'Anti Glare Coating',\n",
       " 'Graphics Card Description': 'Integrated'}"
      ]
     },
     "execution_count": 69,
     "metadata": {},
     "output_type": "execute_result"
    }
   ],
   "source": [
    "specs_obj"
   ]
  },
  {
   "cell_type": "code",
   "execution_count": 70,
   "id": "3ea4bc52-8d64-4b76-b970-f5120e1f92f9",
   "metadata": {},
   "outputs": [],
   "source": [
    "info = {'title' : title, 'price' : price, 'images' : images, 'specs' : specs_obj}"
   ]
  },
  {
   "cell_type": "code",
   "execution_count": 71,
   "id": "1eb12202-7f76-4965-84ba-2ef32ab05a6b",
   "metadata": {
    "scrolled": true
   },
   "outputs": [
    {
     "data": {
      "text/plain": [
       "{'title': 'Apple 2023 MacBook Pro laptop M2 Pro chip with 12‑core CPU and 19‑core GPU: 16.2-inch Liquid Retina XDR display, 16GB Unified Memory, 1TB SSD storage. Works with iPhone/iPad; Space Gray',\n",
       " 'price': '$2,699.00',\n",
       " 'images': ['https://m.media-amazon.com/images/I/61fd2oCrvyL._AC_SL1500_.jpg',\n",
       "  'https://m.media-amazon.com/images/I/71ZAeHYYlHL._AC_SL1500_.jpg',\n",
       "  'https://m.media-amazon.com/images/I/61C9irOOQVL._AC_SL1500_.jpg',\n",
       "  'https://m.media-amazon.com/images/I/81j1XDaqcML._AC_SL1500_.jpg',\n",
       "  'https://m.media-amazon.com/images/I/81OBjqVEGwL._AC_SL1500_.jpg',\n",
       "  'https://m.media-amazon.com/images/I/61FhAanYdhL._AC_SL1500_.jpg',\n",
       "  'https://m.media-amazon.com/images/I/61bwiPRcv2L._AC_SL1500_.jpg',\n",
       "  'https://m.media-amazon.com/images/I/71-uDe4TN1L._AC_SL1500_.jpg',\n",
       "  'https://m.media-amazon.com/images/I/61C9irOOQVL._AC_SL1500_.jpg',\n",
       "  'https://m.media-amazon.com/images/I/81KJXaswhrL._AC_SL1500_.jpg',\n",
       "  'https://m.media-amazon.com/images/I/81OBjqVEGwL._AC_SL1500_.jpg',\n",
       "  'https://m.media-amazon.com/images/I/61CdlgWgngL._AC_SL1500_.jpg',\n",
       "  'https://m.media-amazon.com/images/I/61EXF2Vr9LL._AC_SL1500_.jpg',\n",
       "  'https://m.media-amazon.com/images/I/61fd2oCrvyL._AC_SL1500_.jpg',\n",
       "  'https://m.media-amazon.com/images/I/71ZAeHYYlHL._AC_SL1500_.jpg',\n",
       "  'https://m.media-amazon.com/images/I/61C9irOOQVL._AC_SL1500_.jpg',\n",
       "  'https://m.media-amazon.com/images/I/81j1XDaqcML._AC_SL1500_.jpg',\n",
       "  'https://m.media-amazon.com/images/I/81OBjqVEGwL._AC_SL1500_.jpg',\n",
       "  'https://m.media-amazon.com/images/I/61FhAanYdhL._AC_SL1500_.jpg',\n",
       "  'https://m.media-amazon.com/images/I/61ldExf7mbL._AC_SL1500_.jpg',\n",
       "  'https://m.media-amazon.com/images/I/71-uDe4TN1L._AC_SL1500_.jpg',\n",
       "  'https://m.media-amazon.com/images/I/61C9irOOQVL._AC_SL1500_.jpg',\n",
       "  'https://m.media-amazon.com/images/I/81KJXaswhrL._AC_SL1500_.jpg',\n",
       "  'https://m.media-amazon.com/images/I/81OBjqVEGwL._AC_SL1500_.jpg',\n",
       "  'https://m.media-amazon.com/images/I/61CdlgWgngL._AC_SL1500_.jpg',\n",
       "  'https://m.media-amazon.com/images/I/61ldExf7mbL._AC_SL1500_.jpg',\n",
       "  'https://m.media-amazon.com/images/I/71-uDe4TN1L._AC_SL1500_.jpg',\n",
       "  'https://m.media-amazon.com/images/I/61C9irOOQVL._AC_SL1500_.jpg',\n",
       "  'https://m.media-amazon.com/images/I/81KJXaswhrL._AC_SL1500_.jpg',\n",
       "  'https://m.media-amazon.com/images/I/81OBjqVEGwL._AC_SL1500_.jpg',\n",
       "  'https://m.media-amazon.com/images/I/61CdlgWgngL._AC_SL1500_.jpg',\n",
       "  'https://m.media-amazon.com/images/I/61fd2oCrvyL._AC_SL1500_.jpg',\n",
       "  'https://m.media-amazon.com/images/I/71ZAeHYYlHL._AC_SL1500_.jpg',\n",
       "  'https://m.media-amazon.com/images/I/61C9irOOQVL._AC_SL1500_.jpg',\n",
       "  'https://m.media-amazon.com/images/I/81j1XDaqcML._AC_SL1500_.jpg',\n",
       "  'https://m.media-amazon.com/images/I/81OBjqVEGwL._AC_SL1500_.jpg',\n",
       "  'https://m.media-amazon.com/images/I/61FhAanYdhL._AC_SL1500_.jpg',\n",
       "  'https://m.media-amazon.com/images/I/61fd2oCrvyL._AC_SL1500_.jpg',\n",
       "  'https://m.media-amazon.com/images/I/71ZAeHYYlHL._AC_SL1500_.jpg',\n",
       "  'https://m.media-amazon.com/images/I/61C9irOOQVL._AC_SL1500_.jpg',\n",
       "  'https://m.media-amazon.com/images/I/81j1XDaqcML._AC_SL1500_.jpg',\n",
       "  'https://m.media-amazon.com/images/I/81OBjqVEGwL._AC_SL1500_.jpg',\n",
       "  'https://m.media-amazon.com/images/I/61FhAanYdhL._AC_SL1500_.jpg'],\n",
       " 'specs': {'Brand': 'Apple',\n",
       "  'Model Name': 'MacBook Pro',\n",
       "  'Screen Size': '16.2 Inches',\n",
       "  'Color': 'Space Gray',\n",
       "  'Hard Disk Size': '1 TB',\n",
       "  'CPU Model': 'Unknown',\n",
       "  'Ram Memory Installed Size': '16 GB',\n",
       "  'Operating System': 'Mac OS',\n",
       "  'Special Feature': 'Anti Glare Coating',\n",
       "  'Graphics Card Description': 'Integrated'}}"
      ]
     },
     "execution_count": 71,
     "metadata": {},
     "output_type": "execute_result"
    }
   ],
   "source": [
    "info"
   ]
  },
  {
   "cell_type": "code",
   "execution_count": 72,
   "id": "94e7221d-7022-4715-ab24-8bfa8752e4c6",
   "metadata": {},
   "outputs": [],
   "source": [
    "today = datetime.date.today()"
   ]
  },
  {
   "cell_type": "code",
   "execution_count": 73,
   "id": "5375e5b5-0170-419d-b95f-d24e7f2a1c48",
   "metadata": {},
   "outputs": [
    {
     "data": {
      "text/plain": [
       "datetime.date(2024, 8, 10)"
      ]
     },
     "execution_count": 73,
     "metadata": {},
     "output_type": "execute_result"
    }
   ],
   "source": [
    "today"
   ]
  },
  {
   "cell_type": "code",
   "execution_count": 80,
   "id": "4d23917e-6903-447b-ac90-525069aafea4",
   "metadata": {},
   "outputs": [],
   "source": [
    "header = ['Title', 'Price', 'Date']\n",
    "data = [title, price, today]\n",
    "\n",
    "with open('AmazonWebScraperDataset.csv', 'a+', newline='', encoding='UTF8') as f:\n",
    "    writer = csv.writer(f)\n",
    "    # writer.writerow(header)\n",
    "    writer.writerow(data)"
   ]
  },
  {
   "cell_type": "code",
   "execution_count": 81,
   "id": "a0cc65e1-583e-4457-b91a-7d939689631f",
   "metadata": {},
   "outputs": [
    {
     "name": "stdout",
     "output_type": "stream",
     "text": [
      "                                               Title      Price        Date\n",
      "0  Apple 2023 MacBook Pro laptop M2 Pro chip with...  $2,699.00  2024-08-10\n"
     ]
    }
   ],
   "source": [
    "df = pd.read_csv(r'.\\AmazonWebScraperDataset.csv')\n",
    "\n",
    "print(df)"
   ]
  },
  {
   "cell_type": "code",
   "execution_count": 83,
   "id": "61222c53-7724-4465-aa81-d4d886bead07",
   "metadata": {},
   "outputs": [],
   "source": [
    "# can receive email if say price hits certain level, following function can be set to be trigerred\n",
    "\n",
    "def send_mail():\n",
    "    server = smtplib.SMTP_SSL('smtp.gmail.com',465)\n",
    "    server.ehlo()\n",
    "    #server.starttls()\n",
    "    server.ehlo()\n",
    "    server.login('AlexTheAnalyst95@gmail.com','xxxxxxxxxxxxxx')\n",
    "    \n",
    "    subject = \"The laptop you want is below $2400! Now is your chance to buy!\"\n",
    "    body = \"Sharan, This is the moment we have been waiting for. Now is your chance to pick it. Link here: https://www.amazon.com/dp/B0BSHF7WHW\"\n",
    "   \n",
    "    msg = f\"Subject: {subject}\\n\\n{body}\"\n",
    "    \n",
    "    server.sendmail(\n",
    "        'sharanbennur9900@gmail.com',\n",
    "        msg\n",
    "    )"
   ]
  },
  {
   "cell_type": "code",
   "execution_count": 92,
   "id": "992ffa17-8406-47be-98f6-0a3e4b7edfc1",
   "metadata": {},
   "outputs": [],
   "source": [
    "def check_price():\n",
    "    \n",
    "    URL = 'https://www.amazon.com/dp/B0BSHF7WHW'\n",
    "    headers = {\n",
    "    \"Accept\": \"text/html,application/xhtml+xml,application/xml;q=0.9,image/avif,image/webp,image/apng,*/*;q=0.8,application/signed-exchange;v=b3;q=0.7\", \n",
    "    \"Accept-Encoding\": \"gzip, deflate, br, zstd\", \n",
    "    \"Accept-Language\": \"en-US,en;q=0.9\", \n",
    "    \"Upgrade-Insecure-Requests\": \"1\", \n",
    "    \"User-Agent\": \"Mozilla/5.0 (Windows NT 10.0; Win64; x64) AppleWebKit/537.36 (KHTML, like Gecko) Chrome/127.0.0.0 Safari/537.36\"\n",
    "    }\n",
    "\n",
    "    page = requests.get(URL, headers=headers)\n",
    "\n",
    "    soup1 = BeautifulSoup(page.content, 'html.parser')\n",
    "\n",
    "    soup2 = BeautifulSoup(soup1.prettify(), 'html.parser')\n",
    "\n",
    "    title = soup2.find('h1',{'id':'title'}).text.strip()\n",
    "\n",
    "    rating = soup2.find(\"i\",{\"class\":\"a-icon-star\"}).text.strip()\n",
    "\n",
    "    header = ['Title', 'Price', 'Date']\n",
    "    today = datetime.date.today()\n",
    "    data = [title, price, today]\n",
    "\n",
    "    with open('AmazonWebScraperDataset.csv', 'a+', newline='', encoding='UTF8') as f:\n",
    "        writer = csv.writer(f)\n",
    "        # writer.writerow(header)\n",
    "        writer.writerow(data)\n",
    "\n",
    "    if price[1:0]>'2400':\n",
    "        send_mail()\n",
    "\n",
    "    return 0\n",
    "    \n",
    "    \n",
    "\n",
    "    "
   ]
  },
  {
   "cell_type": "code",
   "execution_count": null,
   "id": "48e75098-4230-4e0d-a677-54e408a1251d",
   "metadata": {},
   "outputs": [],
   "source": [
    "# Runs check_price after a set time and inputs data into your CSV\n",
    "# combine the above scraping steps into check_price() function to automatically collect price changes and write into the csv file\n",
    "while(True):\n",
    "    check_price()\n",
    "    time.sleep(86400)"
   ]
  }
 ],
 "metadata": {
  "kernelspec": {
   "display_name": "Python 3 (ipykernel)",
   "language": "python",
   "name": "python3"
  },
  "language_info": {
   "codemirror_mode": {
    "name": "ipython",
    "version": 3
   },
   "file_extension": ".py",
   "mimetype": "text/x-python",
   "name": "python",
   "nbconvert_exporter": "python",
   "pygments_lexer": "ipython3",
   "version": "3.12.4"
  }
 },
 "nbformat": 4,
 "nbformat_minor": 5
}
