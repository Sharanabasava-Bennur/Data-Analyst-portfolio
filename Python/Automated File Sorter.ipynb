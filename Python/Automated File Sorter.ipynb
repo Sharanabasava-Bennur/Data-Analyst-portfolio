{
 "cells": [
  {
   "cell_type": "markdown",
   "id": "e538808f-1817-4bdf-86f1-a0cf53d5c4e7",
   "metadata": {},
   "source": [
    "FILE SORTER\n"
   ]
  },
  {
   "cell_type": "code",
   "execution_count": 31,
   "id": "767750ea-5153-46ca-8c1b-bfdb8cdf3f7d",
   "metadata": {},
   "outputs": [],
   "source": [
    "import os, shutil\n",
    "\n",
    "path = r'.\\Different files for file sorter program'\n",
    "\n",
    "file_names = os.listdir(path) # get different files from the source\n",
    "\n",
    "folder_names = ['CSV Files', 'Images', 'Text Files'] # list of different folders to be created\n",
    "\n",
    "for i in folder_names:\n",
    "    if not(os.path.exists(os.path.join(path, i))):\n",
    "        print(i)\n",
    "        os.makedirs(os.path.join(path, i))\n",
    "\n",
    "for fileP in file_names:\n",
    "    # print(file, os.path.isfile(path+'\\\\'+file))\n",
    "    if os.path.isfile(os.path.join(path, fileP)):\n",
    "        file, fileExt = os.path.splitext(fileP)\n",
    "        if fileExt == '.txt':\n",
    "            dst_path = os.path.join(path, 'Text Files', fileP)\n",
    "        elif fileExt in ['.png', '.jpeg']:\n",
    "            dst_path = os.path.join(path, 'Images', fileP)\n",
    "        elif fileExt in ['.csv', '.xlsx']:\n",
    "            dst_path = os.path.join(path, 'CSV Files', fileP)\n",
    "        else:\n",
    "            print(fileP, 'Doesnt have a desgination file')\n",
    "            continue\n",
    "        src_path = os.path.join(path, fileP)\n",
    "        os.rename(src_path, dst_path)\n",
    "        "
   ]
  },
  {
   "cell_type": "code",
   "execution_count": null,
   "id": "b44c7355-ed8c-499f-add8-5e8744dc03e3",
   "metadata": {},
   "outputs": [],
   "source": []
  }
 ],
 "metadata": {
  "kernelspec": {
   "display_name": "Python 3 (ipykernel)",
   "language": "python",
   "name": "python3"
  },
  "language_info": {
   "codemirror_mode": {
    "name": "ipython",
    "version": 3
   },
   "file_extension": ".py",
   "mimetype": "text/x-python",
   "name": "python",
   "nbconvert_exporter": "python",
   "pygments_lexer": "ipython3",
   "version": "3.12.4"
  }
 },
 "nbformat": 4,
 "nbformat_minor": 5
}
